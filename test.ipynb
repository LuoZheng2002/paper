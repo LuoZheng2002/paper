{
 "cells": [
  {
   "cell_type": "code",
   "execution_count": 4,
   "metadata": {},
   "outputs": [
    {
     "name": "stdout",
     "output_type": "stream",
     "text": [
      "[[1. 3. 1. 0. 0. 0. 0. 1. 0. 0. 0. 0.]\n",
      " [2. 4. 0. 1. 0. 0. 0. 0. 1. 0. 0. 0.]\n",
      " [3. 5. 0. 0. 1. 0. 0. 0. 0. 1. 0. 0.]\n",
      " [4. 6. 0. 0. 0. 1. 0. 0. 0. 0. 1. 0.]\n",
      " [5. 7. 0. 0. 0. 0. 1. 0. 0. 0. 0. 1.]]\n"
     ]
    }
   ],
   "source": [
    "from sklearn.compose import ColumnTransformer\n",
    "from sklearn.preprocessing import OneHotEncoder\n",
    "import pandas as pd\n",
    "data = pd.DataFrame({\n",
    "    'Num1': [1, 2, 3, 4, 5],\n",
    "    'Cat1': [2, 3, 4, 5, 6],\n",
    "    'Num2': [3, 4, 5, 6, 7],\n",
    "    'Cat2': [4, 5, 6, 7, 8]\n",
    "})\n",
    "numeric_features = ['Num1', 'Num2']\n",
    "categorical_features = ['Cat1', 'Cat2']\n",
    "preproc_onehot = ColumnTransformer(\n",
    "    transformers=[\n",
    "        ('num', 'passthrough', numeric_features),  # Numerical features first\n",
    "        ('cat', OneHotEncoder(handle_unknown='ignore'), categorical_features)\n",
    "    ]\n",
    ")\n",
    "X_preprocessed = preproc_onehot.fit_transform(data)\n",
    "print(X_preprocessed)\n"
   ]
  }
 ],
 "metadata": {
  "kernelspec": {
   "display_name": "pubes",
   "language": "python",
   "name": "python3"
  },
  "language_info": {
   "codemirror_mode": {
    "name": "ipython",
    "version": 3
   },
   "file_extension": ".py",
   "mimetype": "text/x-python",
   "name": "python",
   "nbconvert_exporter": "python",
   "pygments_lexer": "ipython3",
   "version": "3.10.15"
  }
 },
 "nbformat": 4,
 "nbformat_minor": 2
}
