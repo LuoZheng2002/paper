{
 "cells": [
  {
   "cell_type": "code",
   "execution_count": 2,
   "metadata": {},
   "outputs": [
    {
     "name": "stdout",
     "output_type": "stream",
     "text": [
      "3, 2, 1\n"
     ]
    }
   ],
   "source": [
    "class A:\n",
    "    def __init__(self, a, b, c):\n",
    "        self.a = a\n",
    "        self.b = b\n",
    "        self.c = c\n",
    "    def print(self):\n",
    "        print(f'{self.a}, {self.b}, {self.c}')\n",
    "\n",
    "def pass_param(class_name, *args, **kwargs):\n",
    "    return class_name(*args, **kwargs)\n",
    "\n",
    "result = pass_param(A, **{'c': 1, 'b': 2, 'a': 3})\n",
    "result.print()\n"
   ]
  }
 ],
 "metadata": {
  "kernelspec": {
   "display_name": "pubes",
   "language": "python",
   "name": "python3"
  },
  "language_info": {
   "codemirror_mode": {
    "name": "ipython",
    "version": 3
   },
   "file_extension": ".py",
   "mimetype": "text/x-python",
   "name": "python",
   "nbconvert_exporter": "python",
   "pygments_lexer": "ipython3",
   "version": "3.11.9"
  }
 },
 "nbformat": 4,
 "nbformat_minor": 2
}
